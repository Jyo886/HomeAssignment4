{
  "nbformat": 4,
  "nbformat_minor": 0,
  "metadata": {
    "colab": {
      "provenance": []
    },
    "kernelspec": {
      "name": "python3",
      "display_name": "Python 3"
    },
    "language_info": {
      "name": "python"
    }
  },
  "cells": [
    {
      "cell_type": "code",
      "execution_count": 1,
      "metadata": {
        "id": "jfV3QnpLHkBk",
        "colab": {
          "base_uri": "https://localhost:8080/"
        },
        "outputId": "87f15bd8-1b11-49ad-d8f7-d4e76456c3ec"
      },
      "outputs": [
        {
          "output_type": "stream",
          "name": "stdout",
          "text": [
            "Attention Weights:\n",
            "[[0.73105858 0.26894142]\n",
            " [0.26894142 0.73105858]]\n",
            "\n",
            "Output:\n",
            "[[2.07576569 3.07576569 4.07576569 5.07576569]\n",
            " [3.92423431 4.92423431 5.92423431 6.92423431]]\n"
          ]
        }
      ],
      "source": [
        "import numpy as np\n",
        "\n",
        "def scaled_dot_product_attention(Q, K, V):\n",
        "    # Compute dot product of Q and K^T\n",
        "    dot_product = np.matmul(Q, K.T)\n",
        "\n",
        "    # Scale by square root of key dimension\n",
        "    d_k = K.shape[1]\n",
        "    scaled = dot_product / np.sqrt(d_k)\n",
        "\n",
        "    # Apply softmax to get attention weights\n",
        "    attention_weights = np.exp(scaled) / np.sum(np.exp(scaled), axis=-1, keepdims=True)\n",
        "\n",
        "    # Multiply by V to get output\n",
        "    output = np.matmul(attention_weights, V)\n",
        "\n",
        "    return attention_weights, output\n",
        "\n",
        "# Test inputs\n",
        "Q = np.array([[1, 0, 1, 0], [0, 1, 0, 1]])\n",
        "K = np.array([[1, 0, 1, 0], [0, 1, 0, 1]])\n",
        "V = np.array([[1, 2, 3, 4], [5, 6, 7, 8]])\n",
        "\n",
        "# Compute attention\n",
        "weights, output = scaled_dot_product_attention(Q, K, V)\n",
        "\n",
        "print(\"Attention Weights:\")\n",
        "print(weights)\n",
        "print(\"\\nOutput:\")\n",
        "print(output)"
      ]
    }
  ]
}