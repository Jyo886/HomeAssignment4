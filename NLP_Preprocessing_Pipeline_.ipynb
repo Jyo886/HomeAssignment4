{
  "nbformat": 4,
  "nbformat_minor": 0,
  "metadata": {
    "colab": {
      "provenance": []
    },
    "kernelspec": {
      "name": "python3",
      "display_name": "Python 3"
    },
    "language_info": {
      "name": "python"
    }
  },
  "cells": [
    {
      "cell_type": "code",
      "source": [
        "import spacy\n",
        "from nltk.stem import PorterStemmer\n",
        "\n",
        "# Load English tokenizer, POS tagger, etc.\n",
        "nlp = spacy.load(\"en_core_web_sm\")\n",
        "\n",
        "def nlp_preprocessing_pipeline_spacy(sentence):\n",
        "    # Step 1: Tokenization using spaCy\n",
        "    doc = nlp(sentence)\n",
        "    tokens = [token.text for token in doc]\n",
        "    print(\"Original Tokens:\")\n",
        "    print(tokens)\n",
        "\n",
        "    # Step 2: Remove stopwords and punctuation\n",
        "    filtered_tokens = [token.text for token in doc if not token.is_stop and token.is_alpha]\n",
        "    print(\"\\nTokens Without Stopwords:\")\n",
        "    print(filtered_tokens)\n",
        "\n",
        "    # Step 3: Stemming using NLTK's PorterStemmer\n",
        "    stemmer = PorterStemmer()\n",
        "    stemmed_tokens = [stemmer.stem(word) for word in filtered_tokens]\n",
        "    print(\"\\nStemmed Words:\")\n",
        "    print(stemmed_tokens)\n",
        "\n",
        "# Example usage\n",
        "sentence = \"NLP techniques are used in virtual assistants like Alexa and Siri.\"\n",
        "nlp_preprocessing_pipeline_spacy(sentence)\n"
      ],
      "metadata": {
        "colab": {
          "base_uri": "https://localhost:8080/"
        },
        "id": "SKxtq1jyUsQr",
        "outputId": "cc394083-363a-451b-b04b-4262167043c3"
      },
      "execution_count": 7,
      "outputs": [
        {
          "output_type": "stream",
          "name": "stdout",
          "text": [
            "Original Tokens:\n",
            "['NLP', 'techniques', 'are', 'used', 'in', 'virtual', 'assistants', 'like', 'Alexa', 'and', 'Siri', '.']\n",
            "\n",
            "Tokens Without Stopwords:\n",
            "['NLP', 'techniques', 'virtual', 'assistants', 'like', 'Alexa', 'Siri']\n",
            "\n",
            "Stemmed Words:\n",
            "['nlp', 'techniqu', 'virtual', 'assist', 'like', 'alexa', 'siri']\n"
          ]
        }
      ]
    }
  ]
}